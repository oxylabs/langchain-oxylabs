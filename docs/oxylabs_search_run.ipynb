{
 "cells": [
  {
   "metadata": {},
   "cell_type": "markdown",
   "source": "## Oxylabs Search Run",
   "id": "65142ccb18a6add5"
  },
  {
   "metadata": {},
   "cell_type": "markdown",
   "source": "This notebook goes over how to use the Oxylabs search run component.\n",
   "id": "19976df355f9c461"
  },
  {
   "metadata": {},
   "cell_type": "markdown",
   "source": "### Integration details\n",
   "id": "e5c65c1c2cf0a8a2"
  },
  {
   "metadata": {},
   "cell_type": "markdown",
   "source": [
    "| Package                                                          |\n",
    "|------------------------------------------------------------------|\n",
    "| [langchain-oxylabs](https://pypi.org/project/langchain-oxylabs/) |"
   ],
   "id": "515fbf211172fe3d"
  },
  {
   "metadata": {},
   "cell_type": "markdown",
   "source": "### Tool features",
   "id": "31e5c41fc6361d6b"
  },
  {
   "metadata": {},
   "cell_type": "markdown",
   "source": [
    "| [Returns artifact](/docs/how_to/tool_artifacts/) | Pricing         |\n",
    "| :---: | :-----------------------:|\n",
    "| ✅ | Free 5,000 results for 1 week |"
   ],
   "id": "76e6d8030199710d"
  },
  {
   "metadata": {},
   "cell_type": "markdown",
   "source": "## Setup",
   "id": "eb59c5f3051be9d4"
  },
  {
   "metadata": {},
   "cell_type": "markdown",
   "source": "Install the required dependencies.",
   "id": "a824c8c3fb594a7"
  },
  {
   "metadata": {},
   "cell_type": "code",
   "source": "%pip install -U langchain-oxylabs",
   "id": "d117e039cc052ce2",
   "outputs": [],
   "execution_count": null
  },
  {
   "metadata": {},
   "cell_type": "markdown",
   "source": "### Credentials",
   "id": "78f0e14db9cfb858"
  },
  {
   "metadata": {},
   "cell_type": "markdown",
   "source": [
    "Set up the proper API keys and environment variables.  \n",
    "Create your API user credentials: Sign up for a free trial or purchase the product\n",
    "in the [Oxylabs dashboard](https://dashboard.oxylabs.io/en/registration)\n",
    "to create your API user credentials (OXYLABS_USERNAME and OXYLABS_PASSWORD)."
   ],
   "id": "b8330dfd5861482e"
  },
  {
   "metadata": {},
   "cell_type": "code",
   "source": [
    "import getpass\n",
    "import os\n",
    "\n",
    "os.environ[\"OXYLABS_USERNAME\"] = getpass.getpass()\n",
    "os.environ[\"OXYLABS_PASSWORD\"] = getpass.getpass()"
   ],
   "id": "474b6eaf6e35efda",
   "outputs": [],
   "execution_count": null
  },
  {
   "metadata": {},
   "cell_type": "markdown",
   "source": "## Instantiation",
   "id": "ae310f86b113bd78"
  },
  {
   "metadata": {},
   "cell_type": "code",
   "source": [
    "from langchain_oxylabs import OxylabsSearchRun, OxylabsSearchAPIWrapper\n",
    "\n",
    "oxylabs_wrapper = OxylabsSearchAPIWrapper()"
   ],
   "id": "69ea8139f6152b48",
   "outputs": [],
   "execution_count": null
  },
  {
   "metadata": {},
   "cell_type": "code",
   "source": "tool_ = OxylabsSearchRun(wrapper=oxylabs_wrapper)",
   "id": "40fad7b8e2dd393a",
   "outputs": [],
   "execution_count": null
  },
  {
   "metadata": {},
   "cell_type": "markdown",
   "source": "## Invocation",
   "id": "636efff6267b9bc1"
  },
  {
   "metadata": {},
   "cell_type": "markdown",
   "source": "### [Invoke directly with args](/docs/concepts/#invoke-with-just-the-arguments)",
   "id": "272f5fdaed5fa000"
  },
  {
   "metadata": {},
   "cell_type": "markdown",
   "source": [
    "The `OxylabsSearchRun` tool takes a single \"query\" argument,  \n",
    "which should be a natural language query and returns combined string format result:"
   ],
   "id": "2efac797311c5123"
  },
  {
   "metadata": {},
   "cell_type": "code",
   "source": "tool_.invoke({\"query\": \"Visit restaurants in Vilnius.\"})",
   "id": "c82fb184dc134bf9",
   "outputs": [],
   "execution_count": null
  },
  {
   "metadata": {},
   "cell_type": "markdown",
   "source": "### [Invoke with ToolCall](/docs/concepts/#invoke-with-toolcall)",
   "id": "784aad18bba31062"
  },
  {
   "metadata": {},
   "cell_type": "code",
   "source": [
    "tool_ = OxylabsSearchRun(\n",
    "    wrapper=oxylabs_wrapper,\n",
    "    kwargs={\n",
    "        \"result_categories\": [\n",
    "            \"local_information\",\n",
    "            \"combined_search_result\",\n",
    "        ]\n",
    "    },\n",
    ")"
   ],
   "id": "5bddf124be8f9945",
   "outputs": [],
   "execution_count": null
  },
  {
   "metadata": {},
   "cell_type": "code",
   "source": [
    "from pprint import pprint\n",
    "\n",
    "model_generated_tool_call = {\n",
    "    \"args\": {\n",
    "        \"query\": \"Visit restaurants in Vilnius.\",\n",
    "        \"geo_location\": \"Vilnius,Lithuania\",\n",
    "    },\n",
    "    \"id\": \"1\",\n",
    "    \"name\": \"oxylabs_search\",\n",
    "    \"type\": \"tool_call\",\n",
    "}\n",
    "tool_call_result = tool_.invoke(model_generated_tool_call)\n",
    "\n",
    "# The content is a JSON string of results\n",
    "pprint(tool_call_result.content)"
   ],
   "id": "1b903fb2f8272df2",
   "outputs": [],
   "execution_count": null
  },
  {
   "metadata": {},
   "cell_type": "markdown",
   "source": "## Chaining",
   "id": "a436fc39ce17b6da"
  },
  {
   "metadata": {},
   "cell_type": "code",
   "source": [
    "# Install the required libraries\n",
    "%pip install --upgrade --quiet langchain langchain-openai\n",
    "%pip install langchainhub langchain-community"
   ],
   "id": "a6f23e65092e8d27",
   "outputs": [],
   "execution_count": null
  },
  {
   "metadata": {},
   "cell_type": "code",
   "source": [
    "import getpass\n",
    "import os\n",
    "\n",
    "from langchain import hub\n",
    "from langchain.agents import AgentExecutor, create_tool_calling_agent\n",
    "from langchain_openai import ChatOpenAI\n",
    "\n",
    "# Set up OpenAI API credentials\n",
    "os.environ[\"OPENAI_API_KEY\"] = getpass.getpass(\"Enter your OpenAI API key: \")\n",
    "\n",
    "# Define assistant instructions and pull a base prompt template\n",
    "instructions = \"\"\"You are an assistant.\"\"\"\n",
    "base_prompt = hub.pull(\"langchain-ai/openai-functions-template\")\n",
    "prompt = base_prompt.partial(instructions=instructions)\n",
    "\n",
    "# Initialize OpenAI chat model\n",
    "llm = ChatOpenAI(openai_api_key=os.environ[\"OPENAI_API_KEY\"])\n",
    "\n",
    "# Define tools and agent setup\n",
    "tool_ = OxylabsSearchRun(wrapper=oxylabs_wrapper)\n",
    "tools_ = [tool_]\n",
    "agent = create_tool_calling_agent(llm, tools_, prompt)\n",
    "\n",
    "# Set up and invoke the agent executor\n",
    "agent_executor = AgentExecutor(\n",
    "    agent=agent,\n",
    "    tools=tools_,\n",
    "    verbose=True,\n",
    ")\n",
    "agent_executor.invoke({\"input\": \"What happened in the latest Burning Man floods?\"})"
   ],
   "id": "21078a0c265759ff",
   "outputs": [],
   "execution_count": null
  },
  {
   "metadata": {},
   "cell_type": "code",
   "source": [
    "agent_executor.invoke(\n",
    "    {\"input\": \"What is the most profitable company in Lithuania in 2024?\"}\n",
    ")"
   ],
   "id": "41870f403b9a7a8d",
   "outputs": [],
   "execution_count": null
  }
 ],
 "metadata": {
  "kernelspec": {
   "display_name": "Python 3",
   "language": "python",
   "name": "python3"
  },
  "language_info": {
   "codemirror_mode": {
    "name": "ipython",
    "version": 2
   },
   "file_extension": ".py",
   "mimetype": "text/x-python",
   "name": "python",
   "nbconvert_exporter": "python",
   "pygments_lexer": "ipython2",
   "version": "2.7.6"
  }
 },
 "nbformat": 4,
 "nbformat_minor": 5
}
